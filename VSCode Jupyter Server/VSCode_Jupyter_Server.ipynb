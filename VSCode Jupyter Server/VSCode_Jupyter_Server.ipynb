{
  "nbformat": 4,
  "nbformat_minor": 0,
  "metadata": {
    "colab": {
      "name": "VSCode Jupyter Server",
      "provenance": [],
      "collapsed_sections": []
    },
    "kernelspec": {
      "name": "python3",
      "display_name": "Python 3"
    },
    "language_info": {
      "name": "python"
    },
    "accelerator": "GPU"
  },
  "cells": [
    {
      "cell_type": "markdown",
      "metadata": {
        "id": "pqq7iDqG_PSR"
      },
      "source": [
        ""
      ]
    },
    {
      "cell_type": "code",
      "metadata": {
        "colab": {
          "base_uri": "https://localhost:8080/"
        },
        "id": "aElf4Ht6AUcA",
        "outputId": "c9a1a93b-f1e5-40b5-b350-cc09182ade4f"
      },
      "source": [
        "# Install jupyterlab and ngrok\n",
        "!pip install jupyterlab==2.2.9 pyngrok -q\n",
        "\n",
        "# Run jupyterlab in background\n",
        "!nohup jupyter lab --ip=0.0.0.0 &\n",
        "\n",
        "# Make jupyterlab accessible via ngrok\n",
        "from pyngrok import ngrok\n",
        "print(ngrok.connect(8888))"
      ],
      "execution_count": 3,
      "outputs": [
        {
          "output_type": "stream",
          "text": [
            "\u001b[K     |████████████████████████████████| 7.9MB 4.3MB/s \n",
            "\u001b[K     |████████████████████████████████| 61kB 6.7MB/s \n",
            "\u001b[31mERROR: nbclient 0.5.3 has requirement jupyter-client>=6.1.5, but you'll have jupyter-client 5.3.5 which is incompatible.\u001b[0m\n",
            "\u001b[?25hnohup: appending output to 'nohup.out'\n",
            "NgrokTunnel: \"http://a0c47df28996.ngrok.io\" -> \"http://localhost:8888\"\n"
          ],
          "name": "stdout"
        }
      ]
    },
    {
      "cell_type": "code",
      "metadata": {
        "colab": {
          "base_uri": "https://localhost:8080/"
        },
        "id": "KWPypkKR3ZXA",
        "outputId": "720310fb-07f7-4291-d676-764a0d4868e1"
      },
      "source": [
        "from google.colab import drive\n",
        "drive.mount('/gdrive')"
      ],
      "execution_count": 6,
      "outputs": [
        {
          "output_type": "stream",
          "text": [
            "Mounted at /gdrive\n"
          ],
          "name": "stdout"
        }
      ]
    }
  ]
}